{
 "cells": [
  {
   "cell_type": "code",
   "execution_count": 1,
   "id": "2bd3060a",
   "metadata": {},
   "outputs": [],
   "source": [
    "import pandas as pd\n",
    "import numpy as np\n",
    "import matplotlib.pyplot as plt\n",
    "import seaborn as sns\n",
    "%matplotlib inline"
   ]
  },
  {
   "cell_type": "code",
   "execution_count": 2,
   "id": "68f3868c",
   "metadata": {},
   "outputs": [],
   "source": [
    "df= pd.read_excel(\"Cafe_Data_MRA (14).xlsx\")"
   ]
  },
  {
   "cell_type": "code",
   "execution_count": 5,
   "id": "2fd8d1d6",
   "metadata": {},
   "outputs": [
    {
     "data": {
      "text/html": [
       "<div>\n",
       "<style scoped>\n",
       "    .dataframe tbody tr th:only-of-type {\n",
       "        vertical-align: middle;\n",
       "    }\n",
       "\n",
       "    .dataframe tbody tr th {\n",
       "        vertical-align: top;\n",
       "    }\n",
       "\n",
       "    .dataframe thead th {\n",
       "        text-align: right;\n",
       "    }\n",
       "</style>\n",
       "<table border=\"1\" class=\"dataframe\">\n",
       "  <thead>\n",
       "    <tr style=\"text-align: right;\">\n",
       "      <th></th>\n",
       "      <th>Date</th>\n",
       "      <th>Bill_Number</th>\n",
       "      <th>Item_Desc</th>\n",
       "      <th>Time</th>\n",
       "      <th>Quantity</th>\n",
       "      <th>Rate</th>\n",
       "      <th>Tax</th>\n",
       "      <th>Discount</th>\n",
       "      <th>Total</th>\n",
       "      <th>Category</th>\n",
       "    </tr>\n",
       "  </thead>\n",
       "  <tbody>\n",
       "    <tr>\n",
       "      <th>0</th>\n",
       "      <td>2010-04-01</td>\n",
       "      <td>G0470115</td>\n",
       "      <td>QUA  MINERAL WATER(1000ML)</td>\n",
       "      <td>13:15:11</td>\n",
       "      <td>1</td>\n",
       "      <td>50.0</td>\n",
       "      <td>11.88</td>\n",
       "      <td>0.0</td>\n",
       "      <td>61.88</td>\n",
       "      <td>BEVERAGE</td>\n",
       "    </tr>\n",
       "    <tr>\n",
       "      <th>1</th>\n",
       "      <td>2010-04-01</td>\n",
       "      <td>G0470115</td>\n",
       "      <td>MONSOON MALABAR (AULAIT)</td>\n",
       "      <td>13:15:11</td>\n",
       "      <td>1</td>\n",
       "      <td>100.0</td>\n",
       "      <td>23.75</td>\n",
       "      <td>0.0</td>\n",
       "      <td>123.75</td>\n",
       "      <td>BEVERAGE</td>\n",
       "    </tr>\n",
       "  </tbody>\n",
       "</table>\n",
       "</div>"
      ],
      "text/plain": [
       "        Date Bill_Number                       Item_Desc      Time  Quantity  \\\n",
       "0 2010-04-01    G0470115  QUA  MINERAL WATER(1000ML)      13:15:11         1   \n",
       "1 2010-04-01    G0470115  MONSOON MALABAR (AULAIT)        13:15:11         1   \n",
       "\n",
       "    Rate    Tax  Discount   Total  Category  \n",
       "0   50.0  11.88       0.0   61.88  BEVERAGE  \n",
       "1  100.0  23.75       0.0  123.75  BEVERAGE  "
      ]
     },
     "execution_count": 5,
     "metadata": {},
     "output_type": "execute_result"
    }
   ],
   "source": [
    "df.head(2)"
   ]
  },
  {
   "cell_type": "code",
   "execution_count": 6,
   "id": "2a2a34ab",
   "metadata": {},
   "outputs": [
    {
     "data": {
      "text/html": [
       "<div>\n",
       "<style scoped>\n",
       "    .dataframe tbody tr th:only-of-type {\n",
       "        vertical-align: middle;\n",
       "    }\n",
       "\n",
       "    .dataframe tbody tr th {\n",
       "        vertical-align: top;\n",
       "    }\n",
       "\n",
       "    .dataframe thead th {\n",
       "        text-align: right;\n",
       "    }\n",
       "</style>\n",
       "<table border=\"1\" class=\"dataframe\">\n",
       "  <thead>\n",
       "    <tr style=\"text-align: right;\">\n",
       "      <th></th>\n",
       "      <th>Date</th>\n",
       "      <th>Bill_Number</th>\n",
       "      <th>Item_Desc</th>\n",
       "      <th>Time</th>\n",
       "      <th>Quantity</th>\n",
       "      <th>Rate</th>\n",
       "      <th>Tax</th>\n",
       "      <th>Discount</th>\n",
       "      <th>Total</th>\n",
       "      <th>Category</th>\n",
       "    </tr>\n",
       "  </thead>\n",
       "  <tbody>\n",
       "    <tr>\n",
       "      <th>145828</th>\n",
       "      <td>2010-04-30</td>\n",
       "      <td>N0028399</td>\n",
       "      <td>ZINZI WHITE  (GLS)</td>\n",
       "      <td>23:44:37</td>\n",
       "      <td>1</td>\n",
       "      <td>150.0</td>\n",
       "      <td>39.0</td>\n",
       "      <td>0.0</td>\n",
       "      <td>189.0</td>\n",
       "      <td>LIQUOR</td>\n",
       "    </tr>\n",
       "    <tr>\n",
       "      <th>145829</th>\n",
       "      <td>2010-07-09</td>\n",
       "      <td>N0029472</td>\n",
       "      <td>ZINZI WHITE (BTL)</td>\n",
       "      <td>00:31:51</td>\n",
       "      <td>1</td>\n",
       "      <td>700.0</td>\n",
       "      <td>182.0</td>\n",
       "      <td>0.0</td>\n",
       "      <td>882.0</td>\n",
       "      <td>LIQUOR</td>\n",
       "    </tr>\n",
       "  </tbody>\n",
       "</table>\n",
       "</div>"
      ],
      "text/plain": [
       "             Date Bill_Number                       Item_Desc      Time  \\\n",
       "145828 2010-04-30    N0028399  ZINZI WHITE  (GLS)              23:44:37   \n",
       "145829 2010-07-09    N0029472  ZINZI WHITE (BTL)               00:31:51   \n",
       "\n",
       "        Quantity   Rate    Tax  Discount  Total Category  \n",
       "145828         1  150.0   39.0       0.0  189.0   LIQUOR  \n",
       "145829         1  700.0  182.0       0.0  882.0   LIQUOR  "
      ]
     },
     "execution_count": 6,
     "metadata": {},
     "output_type": "execute_result"
    }
   ],
   "source": [
    "df.tail(2)"
   ]
  },
  {
   "cell_type": "code",
   "execution_count": 7,
   "id": "14dd35eb",
   "metadata": {},
   "outputs": [
    {
     "data": {
      "text/plain": [
       "Index(['Date', 'Bill_Number', 'Item_Desc', 'Time', 'Quantity', 'Rate', 'Tax',\n",
       "       'Discount', 'Total', 'Category'],\n",
       "      dtype='object')"
      ]
     },
     "execution_count": 7,
     "metadata": {},
     "output_type": "execute_result"
    }
   ],
   "source": [
    "df.columns"
   ]
  },
  {
   "cell_type": "code",
   "execution_count": 8,
   "id": "fafafe0d",
   "metadata": {},
   "outputs": [
    {
     "data": {
      "text/plain": [
       "(145830, 10)"
      ]
     },
     "execution_count": 8,
     "metadata": {},
     "output_type": "execute_result"
    }
   ],
   "source": [
    "df.shape"
   ]
  },
  {
   "cell_type": "code",
   "execution_count": 9,
   "id": "445ddfca",
   "metadata": {},
   "outputs": [
    {
     "name": "stdout",
     "output_type": "stream",
     "text": [
      "<class 'pandas.core.frame.DataFrame'>\n",
      "RangeIndex: 145830 entries, 0 to 145829\n",
      "Data columns (total 10 columns):\n",
      " #   Column       Non-Null Count   Dtype         \n",
      "---  ------       --------------   -----         \n",
      " 0   Date         145830 non-null  datetime64[ns]\n",
      " 1   Bill_Number  145830 non-null  object        \n",
      " 2   Item_Desc    145830 non-null  object        \n",
      " 3   Time         145830 non-null  object        \n",
      " 4   Quantity     145830 non-null  int64         \n",
      " 5   Rate         145830 non-null  float64       \n",
      " 6   Tax          145830 non-null  float64       \n",
      " 7   Discount     145830 non-null  float64       \n",
      " 8   Total        145830 non-null  float64       \n",
      " 9   Category     145830 non-null  object        \n",
      "dtypes: datetime64[ns](1), float64(4), int64(1), object(4)\n",
      "memory usage: 11.1+ MB\n"
     ]
    }
   ],
   "source": [
    "df.info()"
   ]
  },
  {
   "cell_type": "code",
   "execution_count": 10,
   "id": "bad3bfdb",
   "metadata": {},
   "outputs": [
    {
     "data": {
      "text/plain": [
       "dtype('<M8[ns]')"
      ]
     },
     "execution_count": 10,
     "metadata": {},
     "output_type": "execute_result"
    }
   ],
   "source": [
    "df['Time'] = pd.to_datetime(df['Time'], format='%H:%M:%S')\n",
    "df['Time'].dtype"
   ]
  },
  {
   "cell_type": "code",
   "execution_count": 11,
   "id": "33c43922",
   "metadata": {
    "scrolled": true
   },
   "outputs": [
    {
     "name": "stdout",
     "output_type": "stream",
     "text": [
      "<class 'pandas.core.frame.DataFrame'>\n",
      "RangeIndex: 145830 entries, 0 to 145829\n",
      "Data columns (total 10 columns):\n",
      " #   Column       Non-Null Count   Dtype         \n",
      "---  ------       --------------   -----         \n",
      " 0   Date         145830 non-null  datetime64[ns]\n",
      " 1   Bill_Number  145830 non-null  object        \n",
      " 2   Item_Desc    145830 non-null  object        \n",
      " 3   Time         145830 non-null  datetime64[ns]\n",
      " 4   Quantity     145830 non-null  int64         \n",
      " 5   Rate         145830 non-null  float64       \n",
      " 6   Tax          145830 non-null  float64       \n",
      " 7   Discount     145830 non-null  float64       \n",
      " 8   Total        145830 non-null  float64       \n",
      " 9   Category     145830 non-null  object        \n",
      "dtypes: datetime64[ns](2), float64(4), int64(1), object(3)\n",
      "memory usage: 11.1+ MB\n"
     ]
    }
   ],
   "source": [
    "df.info()"
   ]
  },
  {
   "cell_type": "code",
   "execution_count": 12,
   "id": "f9dbf143",
   "metadata": {},
   "outputs": [
    {
     "name": "stdout",
     "output_type": "stream",
     "text": [
      "DataFrame for Bill_Number\n"
     ]
    },
    {
     "data": {
      "text/html": [
       "<div>\n",
       "<style scoped>\n",
       "    .dataframe tbody tr th:only-of-type {\n",
       "        vertical-align: middle;\n",
       "    }\n",
       "\n",
       "    .dataframe tbody tr th {\n",
       "        vertical-align: top;\n",
       "    }\n",
       "\n",
       "    .dataframe thead th {\n",
       "        text-align: right;\n",
       "    }\n",
       "</style>\n",
       "<table border=\"1\" class=\"dataframe\">\n",
       "  <thead>\n",
       "    <tr style=\"text-align: right;\">\n",
       "      <th></th>\n",
       "      <th>Bill_Number</th>\n",
       "      <th>value_counts</th>\n",
       "    </tr>\n",
       "  </thead>\n",
       "  <tbody>\n",
       "    <tr>\n",
       "      <th>0</th>\n",
       "      <td>G0490530</td>\n",
       "      <td>23</td>\n",
       "    </tr>\n",
       "    <tr>\n",
       "      <th>1</th>\n",
       "      <td>G0518006</td>\n",
       "      <td>23</td>\n",
       "    </tr>\n",
       "    <tr>\n",
       "      <th>2</th>\n",
       "      <td>G0489943</td>\n",
       "      <td>21</td>\n",
       "    </tr>\n",
       "    <tr>\n",
       "      <th>3</th>\n",
       "      <td>G0526679</td>\n",
       "      <td>19</td>\n",
       "    </tr>\n",
       "    <tr>\n",
       "      <th>4</th>\n",
       "      <td>G0495644</td>\n",
       "      <td>18</td>\n",
       "    </tr>\n",
       "    <tr>\n",
       "      <th>...</th>\n",
       "      <td>...</td>\n",
       "      <td>...</td>\n",
       "    </tr>\n",
       "    <tr>\n",
       "      <th>69977</th>\n",
       "      <td>G0472334</td>\n",
       "      <td>1</td>\n",
       "    </tr>\n",
       "    <tr>\n",
       "      <th>69978</th>\n",
       "      <td>G0472336</td>\n",
       "      <td>1</td>\n",
       "    </tr>\n",
       "    <tr>\n",
       "      <th>69979</th>\n",
       "      <td>G0472337</td>\n",
       "      <td>1</td>\n",
       "    </tr>\n",
       "    <tr>\n",
       "      <th>69980</th>\n",
       "      <td>G0472343</td>\n",
       "      <td>1</td>\n",
       "    </tr>\n",
       "    <tr>\n",
       "      <th>69981</th>\n",
       "      <td>N0029472</td>\n",
       "      <td>1</td>\n",
       "    </tr>\n",
       "  </tbody>\n",
       "</table>\n",
       "<p>69982 rows × 2 columns</p>\n",
       "</div>"
      ],
      "text/plain": [
       "      Bill_Number  value_counts\n",
       "0        G0490530            23\n",
       "1        G0518006            23\n",
       "2        G0489943            21\n",
       "3        G0526679            19\n",
       "4        G0495644            18\n",
       "...           ...           ...\n",
       "69977    G0472334             1\n",
       "69978    G0472336             1\n",
       "69979    G0472337             1\n",
       "69980    G0472343             1\n",
       "69981    N0029472             1\n",
       "\n",
       "[69982 rows x 2 columns]"
      ]
     },
     "execution_count": 12,
     "metadata": {},
     "output_type": "execute_result"
    }
   ],
   "source": [
    "columns_to_count = [\"Bill_Number\"]\n",
    "\n",
    "for col in columns_to_count:\n",
    "    counts = df[col].value_counts().reset_index()\n",
    "    counts.columns = [\"Bill_Number\", \"value_counts\"]\n",
    "    print(f\"DataFrame for {col}\")\n",
    "counts"
   ]
  },
  {
   "cell_type": "code",
   "execution_count": 13,
   "id": "bf3f3df5",
   "metadata": {},
   "outputs": [
    {
     "name": "stdout",
     "output_type": "stream",
     "text": [
      "DataFrame for Item_Desc:\n",
      "\n"
     ]
    },
    {
     "data": {
      "text/html": [
       "<div>\n",
       "<style scoped>\n",
       "    .dataframe tbody tr th:only-of-type {\n",
       "        vertical-align: middle;\n",
       "    }\n",
       "\n",
       "    .dataframe tbody tr th {\n",
       "        vertical-align: top;\n",
       "    }\n",
       "\n",
       "    .dataframe thead th {\n",
       "        text-align: right;\n",
       "    }\n",
       "</style>\n",
       "<table border=\"1\" class=\"dataframe\">\n",
       "  <thead>\n",
       "    <tr style=\"text-align: right;\">\n",
       "      <th></th>\n",
       "      <th>Item_desc</th>\n",
       "      <th>value_counts</th>\n",
       "    </tr>\n",
       "  </thead>\n",
       "  <tbody>\n",
       "    <tr>\n",
       "      <th>0</th>\n",
       "      <td>NIRVANA HOOKAH SINGLE</td>\n",
       "      <td>8553</td>\n",
       "    </tr>\n",
       "    <tr>\n",
       "      <th>1</th>\n",
       "      <td>MINT FLAVOUR SINGLE</td>\n",
       "      <td>5817</td>\n",
       "    </tr>\n",
       "    <tr>\n",
       "      <th>2</th>\n",
       "      <td>CAPPUCCINO</td>\n",
       "      <td>5495</td>\n",
       "    </tr>\n",
       "    <tr>\n",
       "      <th>3</th>\n",
       "      <td>GREAT LAKES SHAKE</td>\n",
       "      <td>4895</td>\n",
       "    </tr>\n",
       "    <tr>\n",
       "      <th>4</th>\n",
       "      <td>SAMBUCA</td>\n",
       "      <td>4425</td>\n",
       "    </tr>\n",
       "    <tr>\n",
       "      <th>...</th>\n",
       "      <td>...</td>\n",
       "      <td>...</td>\n",
       "    </tr>\n",
       "    <tr>\n",
       "      <th>575</th>\n",
       "      <td>UDAIPUR LILY</td>\n",
       "      <td>1</td>\n",
       "    </tr>\n",
       "    <tr>\n",
       "      <th>576</th>\n",
       "      <td>ADD BUTTERED TOAST</td>\n",
       "      <td>1</td>\n",
       "    </tr>\n",
       "    <tr>\n",
       "      <th>577</th>\n",
       "      <td>DECAFFINATE COFFEE FRAPPE</td>\n",
       "      <td>1</td>\n",
       "    </tr>\n",
       "    <tr>\n",
       "      <th>578</th>\n",
       "      <td>INDIA KINGS OCEAN BLUE</td>\n",
       "      <td>1</td>\n",
       "    </tr>\n",
       "    <tr>\n",
       "      <th>579</th>\n",
       "      <td>ZINZI WHITE (BTL)</td>\n",
       "      <td>1</td>\n",
       "    </tr>\n",
       "  </tbody>\n",
       "</table>\n",
       "<p>580 rows × 2 columns</p>\n",
       "</div>"
      ],
      "text/plain": [
       "                                Item_desc  value_counts\n",
       "0          NIRVANA HOOKAH SINGLE                   8553\n",
       "1          MINT FLAVOUR SINGLE                     5817\n",
       "2          CAPPUCCINO                              5495\n",
       "3    GREAT LAKES SHAKE                             4895\n",
       "4          SAMBUCA                                 4425\n",
       "..                                    ...           ...\n",
       "575        UDAIPUR LILY                               1\n",
       "576        ADD BUTTERED TOAST                         1\n",
       "577        DECAFFINATE COFFEE FRAPPE                  1\n",
       "578        INDIA KINGS OCEAN BLUE                     1\n",
       "579        ZINZI WHITE (BTL)                          1\n",
       "\n",
       "[580 rows x 2 columns]"
      ]
     },
     "execution_count": 13,
     "metadata": {},
     "output_type": "execute_result"
    }
   ],
   "source": [
    "columns_to_count = [\"Item_Desc\"]\n",
    "\n",
    "for col in columns_to_count:\n",
    "    Item_desc = df[col].value_counts().reset_index()\n",
    "    Item_desc.columns = [\"Item_desc\", \"value_counts\"]\n",
    "    print(f\"DataFrame for {col}:\\n\")\n",
    "Item_desc"
   ]
  },
  {
   "cell_type": "code",
   "execution_count": 14,
   "id": "4a414357",
   "metadata": {},
   "outputs": [
    {
     "name": "stdout",
     "output_type": "stream",
     "text": [
      "DataFrame for Category:\n",
      "\n"
     ]
    },
    {
     "data": {
      "text/html": [
       "<div>\n",
       "<style scoped>\n",
       "    .dataframe tbody tr th:only-of-type {\n",
       "        vertical-align: middle;\n",
       "    }\n",
       "\n",
       "    .dataframe tbody tr th {\n",
       "        vertical-align: top;\n",
       "    }\n",
       "\n",
       "    .dataframe thead th {\n",
       "        text-align: right;\n",
       "    }\n",
       "</style>\n",
       "<table border=\"1\" class=\"dataframe\">\n",
       "  <thead>\n",
       "    <tr style=\"text-align: right;\">\n",
       "      <th></th>\n",
       "      <th>Category</th>\n",
       "      <th>value_counts</th>\n",
       "    </tr>\n",
       "  </thead>\n",
       "  <tbody>\n",
       "    <tr>\n",
       "      <th>0</th>\n",
       "      <td>FOOD</td>\n",
       "      <td>57023</td>\n",
       "    </tr>\n",
       "    <tr>\n",
       "      <th>1</th>\n",
       "      <td>BEVERAGE</td>\n",
       "      <td>43573</td>\n",
       "    </tr>\n",
       "    <tr>\n",
       "      <th>2</th>\n",
       "      <td>TOBACCO</td>\n",
       "      <td>36496</td>\n",
       "    </tr>\n",
       "    <tr>\n",
       "      <th>3</th>\n",
       "      <td>LIQUOR</td>\n",
       "      <td>6200</td>\n",
       "    </tr>\n",
       "    <tr>\n",
       "      <th>4</th>\n",
       "      <td>MISC</td>\n",
       "      <td>1187</td>\n",
       "    </tr>\n",
       "    <tr>\n",
       "      <th>5</th>\n",
       "      <td>WINES</td>\n",
       "      <td>809</td>\n",
       "    </tr>\n",
       "    <tr>\n",
       "      <th>6</th>\n",
       "      <td>MERCHANDISE</td>\n",
       "      <td>487</td>\n",
       "    </tr>\n",
       "    <tr>\n",
       "      <th>7</th>\n",
       "      <td>LIQUOR &amp; TOBACCO</td>\n",
       "      <td>54</td>\n",
       "    </tr>\n",
       "    <tr>\n",
       "      <th>8</th>\n",
       "      <td>LIQUOR</td>\n",
       "      <td>1</td>\n",
       "    </tr>\n",
       "  </tbody>\n",
       "</table>\n",
       "</div>"
      ],
      "text/plain": [
       "           Category  value_counts\n",
       "0              FOOD         57023\n",
       "1          BEVERAGE         43573\n",
       "2           TOBACCO         36496\n",
       "3            LIQUOR          6200\n",
       "4              MISC          1187\n",
       "5             WINES           809\n",
       "6       MERCHANDISE           487\n",
       "7  LIQUOR & TOBACCO            54\n",
       "8           LIQUOR              1"
      ]
     },
     "execution_count": 14,
     "metadata": {},
     "output_type": "execute_result"
    }
   ],
   "source": [
    "columns_to_count = [\"Category\"]\n",
    "for col in columns_to_count:\n",
    "    Category = df[col].value_counts().reset_index()\n",
    "    Category.columns = [\"Category\", \"value_counts\"]\n",
    "    print(f\"DataFrame for {col}:\\n\")\n",
    "Category"
   ]
  },
  {
   "cell_type": "code",
   "execution_count": 15,
   "id": "6860c716",
   "metadata": {},
   "outputs": [
    {
     "data": {
      "text/plain": [
       "680"
      ]
     },
     "execution_count": 15,
     "metadata": {},
     "output_type": "execute_result"
    }
   ],
   "source": [
    "df.duplicated().sum()"
   ]
  },
  {
   "cell_type": "code",
   "execution_count": 16,
   "id": "d6e6addf",
   "metadata": {},
   "outputs": [
    {
     "data": {
      "text/plain": [
       "(145150, 10)"
      ]
     },
     "execution_count": 16,
     "metadata": {},
     "output_type": "execute_result"
    }
   ],
   "source": [
    "df.drop_duplicates(inplace= True)\n",
    "df.shape"
   ]
  },
  {
   "cell_type": "code",
   "execution_count": 17,
   "id": "ab32f116",
   "metadata": {},
   "outputs": [
    {
     "data": {
      "text/plain": [
       "0"
      ]
     },
     "execution_count": 17,
     "metadata": {},
     "output_type": "execute_result"
    }
   ],
   "source": [
    "df.isnull().sum().sum()"
   ]
  },
  {
   "cell_type": "code",
   "execution_count": 15,
   "id": "4cb8bcea",
   "metadata": {},
   "outputs": [
    {
     "data": {
      "text/plain": [
       "Category\n",
       "FOOD                56658\n",
       "BEVERAGE            43513\n",
       "TOBACCO             36294\n",
       "LIQUOR               6200\n",
       "MISC                 1160\n",
       "WINES                 805\n",
       "MERCHANDISE           473\n",
       "LIQUOR & TOBACCO       47\n",
       "Name: count, dtype: int64"
      ]
     },
     "execution_count": 15,
     "metadata": {},
     "output_type": "execute_result"
    }
   ],
   "source": [
    "df['Category'] = df['Category'].str.strip()\n",
    "df.Category.value_counts()"
   ]
  },
  {
   "cell_type": "code",
   "execution_count": 16,
   "id": "9b217153",
   "metadata": {},
   "outputs": [
    {
     "data": {
      "image/png": "[encoded data removed]",
      "text/plain": [
       "<Figure size 1800x800 with 1 Axes>"
      ]
     },
     "metadata": {},
     "output_type": "display_data"
    }
   ],
   "source": [
    "category_counts = df['Category'].value_counts().reset_index()\n",
    "category_counts.columns = ['Category', 'Count']\n",
    "category_counts = category_counts.sort_values(by='Count', ascending=False)\n",
    "plt.figure(figsize=(18, 8))\n",
    "ax = sns.barplot(data=category_counts, y='Category', x='Count')\n",
    "for index, row in category_counts.iterrows():\n",
    "    ax.text(row['Count'], index, row['Count'], color='black', ha=\"left\")\n",
    "plt.title('Categories')\n",
    "plt.xlabel('Count')\n",
    "plt.ylabel('Category Names')\n",
    "\n",
    "plt.show();"
   ]
  },
  {
   "cell_type": "code",
   "execution_count": 17,
   "id": "29b8e324",
   "metadata": {},
   "outputs": [
    {
     "data": {
      "text/html": [
       "<div>\n",
       "<style scoped>\n",
       "    .dataframe tbody tr th:only-of-type {\n",
       "        vertical-align: middle;\n",
       "    }\n",
       "\n",
       "    .dataframe tbody tr th {\n",
       "        vertical-align: top;\n",
       "    }\n",
       "\n",
       "    .dataframe thead th {\n",
       "        text-align: right;\n",
       "    }\n",
       "</style>\n",
       "<table border=\"1\" class=\"dataframe\">\n",
       "  <thead>\n",
       "    <tr style=\"text-align: right;\">\n",
       "      <th></th>\n",
       "      <th>Date</th>\n",
       "      <th>Time</th>\n",
       "      <th>Quantity</th>\n",
       "      <th>Rate</th>\n",
       "      <th>Tax</th>\n",
       "      <th>Discount</th>\n",
       "      <th>Total</th>\n",
       "    </tr>\n",
       "  </thead>\n",
       "  <tbody>\n",
       "    <tr>\n",
       "      <th>count</th>\n",
       "      <td>145150</td>\n",
       "      <td>145150</td>\n",
       "      <td>145150.000000</td>\n",
       "      <td>145150.000000</td>\n",
       "      <td>145150.00000</td>\n",
       "      <td>145150.000000</td>\n",
       "      <td>145150.000000</td>\n",
       "    </tr>\n",
       "    <tr>\n",
       "      <th>mean</th>\n",
       "      <td>2010-10-04 12:26:23.355149568</td>\n",
       "      <td>1900-01-01 16:39:13.400213760</td>\n",
       "      <td>1.121826</td>\n",
       "      <td>161.727783</td>\n",
       "      <td>48.93175</td>\n",
       "      <td>0.095307</td>\n",
       "      <td>224.971683</td>\n",
       "    </tr>\n",
       "    <tr>\n",
       "      <th>min</th>\n",
       "      <td>2010-04-01 00:00:00</td>\n",
       "      <td>1900-01-01 00:00:01</td>\n",
       "      <td>1.000000</td>\n",
       "      <td>0.010000</td>\n",
       "      <td>0.00000</td>\n",
       "      <td>0.000000</td>\n",
       "      <td>0.010000</td>\n",
       "    </tr>\n",
       "    <tr>\n",
       "      <th>25%</th>\n",
       "      <td>2010-07-10 00:00:00</td>\n",
       "      <td>1900-01-01 14:48:49</td>\n",
       "      <td>1.000000</td>\n",
       "      <td>95.000000</td>\n",
       "      <td>22.56000</td>\n",
       "      <td>0.000000</td>\n",
       "      <td>117.560000</td>\n",
       "    </tr>\n",
       "    <tr>\n",
       "      <th>50%</th>\n",
       "      <td>2010-10-07 00:00:00</td>\n",
       "      <td>1900-01-01 18:17:09.500000</td>\n",
       "      <td>1.000000</td>\n",
       "      <td>125.000000</td>\n",
       "      <td>32.06000</td>\n",
       "      <td>0.000000</td>\n",
       "      <td>167.060000</td>\n",
       "    </tr>\n",
       "    <tr>\n",
       "      <th>75%</th>\n",
       "      <td>2011-01-01 00:00:00</td>\n",
       "      <td>1900-01-01 21:02:14</td>\n",
       "      <td>1.000000</td>\n",
       "      <td>225.000000</td>\n",
       "      <td>72.00000</td>\n",
       "      <td>0.000000</td>\n",
       "      <td>315.000000</td>\n",
       "    </tr>\n",
       "    <tr>\n",
       "      <th>max</th>\n",
       "      <td>2011-03-31 00:00:00</td>\n",
       "      <td>1900-01-01 23:59:57</td>\n",
       "      <td>30.000000</td>\n",
       "      <td>2100.000000</td>\n",
       "      <td>2731.25000</td>\n",
       "      <td>825.000000</td>\n",
       "      <td>14231.250000</td>\n",
       "    </tr>\n",
       "    <tr>\n",
       "      <th>std</th>\n",
       "      <td>NaN</td>\n",
       "      <td>NaN</td>\n",
       "      <td>0.478249</td>\n",
       "      <td>102.213514</td>\n",
       "      <td>40.28672</td>\n",
       "      <td>3.728524</td>\n",
       "      <td>165.052799</td>\n",
       "    </tr>\n",
       "  </tbody>\n",
       "</table>\n",
       "</div>"
      ],
      "text/plain": [
       "                                Date                           Time  \\\n",
       "count                         145150                         145150   \n",
       "mean   2010-10-04 12:26:23.355149568  1900-01-01 16:39:13.400213760   \n",
       "min              2010-04-01 00:00:00            1900-01-01 00:00:01   \n",
       "25%              2010-07-10 00:00:00            1900-01-01 14:48:49   \n",
       "50%              2010-10-07 00:00:00     1900-01-01 18:17:09.500000   \n",
       "75%              2011-01-01 00:00:00            1900-01-01 21:02:14   \n",
       "max              2011-03-31 00:00:00            1900-01-01 23:59:57   \n",
       "std                              NaN                            NaN   \n",
       "\n",
       "            Quantity           Rate           Tax       Discount  \\\n",
       "count  145150.000000  145150.000000  145150.00000  145150.000000   \n",
       "mean        1.121826     161.727783      48.93175       0.095307   \n",
       "min         1.000000       0.010000       0.00000       0.000000   \n",
       "25%         1.000000      95.000000      22.56000       0.000000   \n",
       "50%         1.000000     125.000000      32.06000       0.000000   \n",
       "75%         1.000000     225.000000      72.00000       0.000000   \n",
       "max        30.000000    2100.000000    2731.25000     825.000000   \n",
       "std         0.478249     102.213514      40.28672       3.728524   \n",
       "\n",
       "               Total  \n",
       "count  145150.000000  \n",
       "mean      224.971683  \n",
       "min         0.010000  \n",
       "25%       117.560000  \n",
       "50%       167.060000  \n",
       "75%       315.000000  \n",
       "max     14231.250000  \n",
       "std       165.052799  "
      ]
     },
     "execution_count": 17,
     "metadata": {},
     "output_type": "execute_result"
    }
   ],
   "source": [
    "df_stat= df.describe()\n",
    "df_stat"
   ]
  },
  {
   "cell_type": "code",
   "execution_count": 18,
   "id": "07703647",
   "metadata": {},
   "outputs": [
    {
     "data": {
      "image/png": "[encoded data removed]",
      "text/plain": [
       "<Figure size 800x400 with 1 Axes>"
      ]
     },
     "metadata": {},
     "output_type": "display_data"
    }
   ],
   "source": [
    "plt.figure(figsize=(8, 4))\n",
    "sns.boxplot(data=df, orient='h', palette='Set3')\n",
    "plt.title('Outliers', fontsize=10)\n",
    "plt.xlabel('Values')\n",
    "plt.ylabel('Variables')\n",
    "plt.tight_layout()\n",
    "\n",
    "plt.show();"
   ]
  },
  {
   "cell_type": "code",
   "execution_count": 19,
   "id": "065edcef",
   "metadata": {},
   "outputs": [
    {
     "name": "stdout",
     "output_type": "stream",
     "text": [
      "Date             365\n",
      "Bill_Number    69982\n",
      "Item_Desc        580\n",
      "Time           36200\n",
      "Quantity          20\n",
      "Rate             134\n",
      "Tax              445\n",
      "Discount         111\n",
      "Total            470\n",
      "Category           8\n",
      "dtype: int64\n"
     ]
    }
   ],
   "source": [
    "print(df.nunique())"
   ]
  },
  {
   "cell_type": "code",
   "execution_count": 20,
   "id": "bcd11dd3",
   "metadata": {},
   "outputs": [
    {
     "data": {
      "image/png": "[encoded data removed]",
      "text/plain": [
       "<Figure size 1200x800 with 4 Axes>"
      ]
     },
     "metadata": {},
     "output_type": "display_data"
    }
   ],
   "source": [
    "# Filter columns with float data types\n",
    "float_columns = df.select_dtypes(include=['float64']).columns\n",
    "num_plots = len(float_columns)\n",
    "num_cols = 2\n",
    "num_rows = (num_plots + num_cols - 1) // num_cols\n",
    "fig, axes = plt.subplots(num_rows, num_cols, figsize=(12, num_rows * 4))\n",
    "for i, (column, ax) in enumerate(zip(float_columns, axes.flatten())):\n",
    "    sns.histplot(df[column], kde=True, color='purple', ax=ax)\n",
    "    ax.set_title(f'Histogram for {column}', fontsize=14)\n",
    "    ax.set_xlabel(column, fontsize=12)\n",
    "    ax.set_ylabel('Count', fontsize=12)\n",
    "    ax.tick_params(labelsize=10)\n",
    "    \n",
    "for j in range(i+1, num_rows*num_cols):\n",
    "    fig.delaxes(axes.flatten()[j])\n",
    "\n",
    "plt.tight_layout()\n",
    "plt.show();"
   ]
  },
  {
   "cell_type": "code",
   "execution_count": 26,
   "id": "bc6ec876",
   "metadata": {},
   "outputs": [
    {
     "data": {
      "text/plain": [
       "(145150, 10)"
      ]
     },
     "execution_count": 26,
     "metadata": {},
     "output_type": "execute_result"
    }
   ],
   "source": [
    "df.shape"
   ]
  },
  {
   "cell_type": "code",
   "execution_count": 24,
   "id": "3daccb79",
   "metadata": {
    "collapsed": true
   },
   "outputs": [
    {
     "name": "stdout",
     "output_type": "stream",
     "text": [
      "Collecting apyori\n",
      "  Downloading apyori-1.1.2.tar.gz (8.6 kB)\n",
      "  Preparing metadata (setup.py): started\n",
      "  Preparing metadata (setup.py): finished with status 'done'\n",
      "Building wheels for collected packages: apyori\n",
      "  Building wheel for apyori (setup.py): started\n",
      "  Building wheel for apyori (setup.py): finished with status 'done'\n",
      "  Created wheel for apyori: filename=apyori-1.1.2-py3-none-any.whl size=5975 sha256=388dce7a36a31419cb83c41e15298ef6a2d8af053e52c699ebd40cf5c88a85a4\n",
      "  Stored in directory: c:\\users\\honey\\appdata\\local\\pip\\cache\\wheels\\77\\3d\\a6\\d317a6fb32be58a602b1e8c6b5d6f31f79322da554cad2a5ea\n",
      "Successfully built apyori\n",
      "Installing collected packages: apyori\n",
      "Successfully installed apyori-1.1.2\n",
      "Note: you may need to restart the kernel to use updated packages.\n"
     ]
    }
   ],
   "source": [
    "pip install apyori"
   ]
  },
  {
   "cell_type": "code",
   "execution_count": 25,
   "id": "21fa85ac",
   "metadata": {},
   "outputs": [],
   "source": [
    "from apyori import apriori"
   ]
  },
  {
   "cell_type": "code",
   "execution_count": 33,
   "id": "024f95fd",
   "metadata": {},
   "outputs": [],
   "source": [
    "df['Item_ID'] = pd.factorize(df['Item_Desc'])[0]\n",
    "transactions = df.groupby('Bill_Number')['Item_ID'].apply(list).tolist()\n",
    "knime_df = pd.DataFrame({'Sno': ['s' + str(i) for i in range(1, len(transactions) + 1)],\n",
    "                         'Billing_Sets': [' '.join(map(str, transaction)) for transaction in transactions]})"
   ]
  },
  {
   "cell_type": "code",
   "execution_count": 34,
   "id": "a83001ec",
   "metadata": {
    "scrolled": true
   },
   "outputs": [
    {
     "data": {
      "text/html": [
       "<div>\n",
       "<style scoped>\n",
       "    .dataframe tbody tr th:only-of-type {\n",
       "        vertical-align: middle;\n",
       "    }\n",
       "\n",
       "    .dataframe tbody tr th {\n",
       "        vertical-align: top;\n",
       "    }\n",
       "\n",
       "    .dataframe thead th {\n",
       "        text-align: right;\n",
       "    }\n",
       "</style>\n",
       "<table border=\"1\" class=\"dataframe\">\n",
       "  <thead>\n",
       "    <tr style=\"text-align: right;\">\n",
       "      <th></th>\n",
       "      <th>Sno</th>\n",
       "      <th>Billing_Sets</th>\n",
       "    </tr>\n",
       "  </thead>\n",
       "  <tbody>\n",
       "    <tr>\n",
       "      <th>0</th>\n",
       "      <td>s1</td>\n",
       "      <td>28</td>\n",
       "    </tr>\n",
       "    <tr>\n",
       "      <th>1</th>\n",
       "      <td>s2</td>\n",
       "      <td>85</td>\n",
       "    </tr>\n",
       "    <tr>\n",
       "      <th>2</th>\n",
       "      <td>s3</td>\n",
       "      <td>17 14 401 527</td>\n",
       "    </tr>\n",
       "    <tr>\n",
       "      <th>3</th>\n",
       "      <td>s4</td>\n",
       "      <td>0 79</td>\n",
       "    </tr>\n",
       "    <tr>\n",
       "      <th>4</th>\n",
       "      <td>s5</td>\n",
       "      <td>79</td>\n",
       "    </tr>\n",
       "    <tr>\n",
       "      <th>5</th>\n",
       "      <td>s6</td>\n",
       "      <td>0 4 73</td>\n",
       "    </tr>\n",
       "    <tr>\n",
       "      <th>6</th>\n",
       "      <td>s7</td>\n",
       "      <td>0 1 31</td>\n",
       "    </tr>\n",
       "    <tr>\n",
       "      <th>7</th>\n",
       "      <td>s8</td>\n",
       "      <td>2 78</td>\n",
       "    </tr>\n",
       "    <tr>\n",
       "      <th>8</th>\n",
       "      <td>s9</td>\n",
       "      <td>0 545</td>\n",
       "    </tr>\n",
       "    <tr>\n",
       "      <th>9</th>\n",
       "      <td>s10</td>\n",
       "      <td>2 3</td>\n",
       "    </tr>\n",
       "  </tbody>\n",
       "</table>\n",
       "</div>"
      ],
      "text/plain": [
       "   Sno   Billing_Sets\n",
       "0   s1             28\n",
       "1   s2             85\n",
       "2   s3  17 14 401 527\n",
       "3   s4           0 79\n",
       "4   s5             79\n",
       "5   s6         0 4 73\n",
       "6   s7         0 1 31\n",
       "7   s8           2 78\n",
       "8   s9          0 545\n",
       "9  s10            2 3"
      ]
     },
     "execution_count": 34,
     "metadata": {},
     "output_type": "execute_result"
    }
   ],
   "source": [
    "knime_df.head(10)"
   ]
  },
  {
   "cell_type": "code",
   "execution_count": 35,
   "id": "f0ee053a",
   "metadata": {},
   "outputs": [
    {
     "data": {
      "text/plain": [
       "(69982, 2)"
      ]
     },
     "execution_count": 35,
     "metadata": {},
     "output_type": "execute_result"
    }
   ],
   "source": [
    "knime_df.shape"
   ]
  },
  {
   "cell_type": "code",
   "execution_count": 37,
   "id": "85f8a00c",
   "metadata": {},
   "outputs": [
    {
     "name": "stdout",
     "output_type": "stream",
     "text": [
      "Sno             69982\n",
      "Billing_Sets    24318\n",
      "dtype: int64\n"
     ]
    }
   ],
   "source": [
    "print(knime_df.nunique())"
   ]
  },
  {
   "cell_type": "code",
   "execution_count": 38,
   "id": "4cefae83",
   "metadata": {},
   "outputs": [],
   "source": [
    "knime_df.to_csv('knime_dataset.csv', index=False)"
   ]
  },
  {
   "cell_type": "code",
   "execution_count": 39,
   "id": "09adbee7",
   "metadata": {},
   "outputs": [
    {
     "name": "stdout",
     "output_type": "stream",
     "text": [
      "<class 'pandas.core.frame.DataFrame'>\n",
      "RangeIndex: 69982 entries, 0 to 69981\n",
      "Data columns (total 2 columns):\n",
      " #   Column        Non-Null Count  Dtype \n",
      "---  ------        --------------  ----- \n",
      " 0   Sno           69982 non-null  object\n",
      " 1   Billing_Sets  69982 non-null  object\n",
      "dtypes: object(2)\n",
      "memory usage: 1.1+ MB\n"
     ]
    }
   ],
   "source": [
    "knime_df.info()"
   ]
  },
  {
   "cell_type": "code",
   "execution_count": 40,
   "id": "92fbbded",
   "metadata": {},
   "outputs": [
    {
     "name": "stdout",
     "output_type": "stream",
     "text": [
      "DataFrame for Billing_Sets\n"
     ]
    },
    {
     "data": {
      "text/html": [
       "<div>\n",
       "<style scoped>\n",
       "    .dataframe tbody tr th:only-of-type {\n",
       "        vertical-align: middle;\n",
       "    }\n",
       "\n",
       "    .dataframe tbody tr th {\n",
       "        vertical-align: top;\n",
       "    }\n",
       "\n",
       "    .dataframe thead th {\n",
       "        text-align: right;\n",
       "    }\n",
       "</style>\n",
       "<table border=\"1\" class=\"dataframe\">\n",
       "  <thead>\n",
       "    <tr style=\"text-align: right;\">\n",
       "      <th></th>\n",
       "      <th>Billing_Sets</th>\n",
       "      <th>value_counts</th>\n",
       "    </tr>\n",
       "  </thead>\n",
       "  <tbody>\n",
       "    <tr>\n",
       "      <th>0</th>\n",
       "      <td>79</td>\n",
       "      <td>3826</td>\n",
       "    </tr>\n",
       "    <tr>\n",
       "      <th>1</th>\n",
       "      <td>78</td>\n",
       "      <td>3505</td>\n",
       "    </tr>\n",
       "    <tr>\n",
       "      <th>2</th>\n",
       "      <td>82</td>\n",
       "      <td>1499</td>\n",
       "    </tr>\n",
       "    <tr>\n",
       "      <th>3</th>\n",
       "      <td>4</td>\n",
       "      <td>1405</td>\n",
       "    </tr>\n",
       "    <tr>\n",
       "      <th>4</th>\n",
       "      <td>74</td>\n",
       "      <td>1395</td>\n",
       "    </tr>\n",
       "    <tr>\n",
       "      <th>...</th>\n",
       "      <td>...</td>\n",
       "      <td>...</td>\n",
       "    </tr>\n",
       "    <tr>\n",
       "      <th>24313</th>\n",
       "      <td>320 79</td>\n",
       "      <td>1</td>\n",
       "    </tr>\n",
       "    <tr>\n",
       "      <th>24314</th>\n",
       "      <td>4 39 78 82</td>\n",
       "      <td>1</td>\n",
       "    </tr>\n",
       "    <tr>\n",
       "      <th>24315</th>\n",
       "      <td>24 49</td>\n",
       "      <td>1</td>\n",
       "    </tr>\n",
       "    <tr>\n",
       "      <th>24316</th>\n",
       "      <td>284 62</td>\n",
       "      <td>1</td>\n",
       "    </tr>\n",
       "    <tr>\n",
       "      <th>24317</th>\n",
       "      <td>135 479</td>\n",
       "      <td>1</td>\n",
       "    </tr>\n",
       "  </tbody>\n",
       "</table>\n",
       "<p>24318 rows × 2 columns</p>\n",
       "</div>"
      ],
      "text/plain": [
       "      Billing_Sets  value_counts\n",
       "0               79          3826\n",
       "1               78          3505\n",
       "2               82          1499\n",
       "3                4          1405\n",
       "4               74          1395\n",
       "...            ...           ...\n",
       "24313       320 79             1\n",
       "24314   4 39 78 82             1\n",
       "24315        24 49             1\n",
       "24316       284 62             1\n",
       "24317      135 479             1\n",
       "\n",
       "[24318 rows x 2 columns]"
      ]
     },
     "execution_count": 40,
     "metadata": {},
     "output_type": "execute_result"
    }
   ],
   "source": [
    "columns_to_count = [\"Billing_Sets\"]\n",
    "\n",
    "for col in columns_to_count:\n",
    "    counts = knime_df[col].value_counts().reset_index()\n",
    "    counts.columns = [\"Billing_Sets\", \"value_counts\"]\n",
    "    print(f\"DataFrame for {col}\")\n",
    "counts"
   ]
  },
  {
   "cell_type": "code",
   "execution_count": 41,
   "id": "00a88bc8",
   "metadata": {},
   "outputs": [
    {
     "name": "stdout",
     "output_type": "stream",
     "text": [
      "DataFrame for Sno\n"
     ]
    },
    {
     "data": {
      "text/html": [
       "<div>\n",
       "<style scoped>\n",
       "    .dataframe tbody tr th:only-of-type {\n",
       "        vertical-align: middle;\n",
       "    }\n",
       "\n",
       "    .dataframe tbody tr th {\n",
       "        vertical-align: top;\n",
       "    }\n",
       "\n",
       "    .dataframe thead th {\n",
       "        text-align: right;\n",
       "    }\n",
       "</style>\n",
       "<table border=\"1\" class=\"dataframe\">\n",
       "  <thead>\n",
       "    <tr style=\"text-align: right;\">\n",
       "      <th></th>\n",
       "      <th>Sno</th>\n",
       "      <th>value_counts</th>\n",
       "    </tr>\n",
       "  </thead>\n",
       "  <tbody>\n",
       "    <tr>\n",
       "      <th>0</th>\n",
       "      <td>s1</td>\n",
       "      <td>1</td>\n",
       "    </tr>\n",
       "    <tr>\n",
       "      <th>1</th>\n",
       "      <td>s46654</td>\n",
       "      <td>1</td>\n",
       "    </tr>\n",
       "    <tr>\n",
       "      <th>2</th>\n",
       "      <td>s46660</td>\n",
       "      <td>1</td>\n",
       "    </tr>\n",
       "    <tr>\n",
       "      <th>3</th>\n",
       "      <td>s46659</td>\n",
       "      <td>1</td>\n",
       "    </tr>\n",
       "    <tr>\n",
       "      <th>4</th>\n",
       "      <td>s46658</td>\n",
       "      <td>1</td>\n",
       "    </tr>\n",
       "    <tr>\n",
       "      <th>...</th>\n",
       "      <td>...</td>\n",
       "      <td>...</td>\n",
       "    </tr>\n",
       "    <tr>\n",
       "      <th>69977</th>\n",
       "      <td>s23333</td>\n",
       "      <td>1</td>\n",
       "    </tr>\n",
       "    <tr>\n",
       "      <th>69978</th>\n",
       "      <td>s23334</td>\n",
       "      <td>1</td>\n",
       "    </tr>\n",
       "    <tr>\n",
       "      <th>69979</th>\n",
       "      <td>s23335</td>\n",
       "      <td>1</td>\n",
       "    </tr>\n",
       "    <tr>\n",
       "      <th>69980</th>\n",
       "      <td>s23336</td>\n",
       "      <td>1</td>\n",
       "    </tr>\n",
       "    <tr>\n",
       "      <th>69981</th>\n",
       "      <td>s69982</td>\n",
       "      <td>1</td>\n",
       "    </tr>\n",
       "  </tbody>\n",
       "</table>\n",
       "<p>69982 rows × 2 columns</p>\n",
       "</div>"
      ],
      "text/plain": [
       "          Sno  value_counts\n",
       "0          s1             1\n",
       "1      s46654             1\n",
       "2      s46660             1\n",
       "3      s46659             1\n",
       "4      s46658             1\n",
       "...       ...           ...\n",
       "69977  s23333             1\n",
       "69978  s23334             1\n",
       "69979  s23335             1\n",
       "69980  s23336             1\n",
       "69981  s69982             1\n",
       "\n",
       "[69982 rows x 2 columns]"
      ]
     },
     "execution_count": 41,
     "metadata": {},
     "output_type": "execute_result"
    }
   ],
   "source": [
    "columns_to_count = [\"Sno\"]\n",
    "\n",
    "for col in columns_to_count:\n",
    "    counts = knime_df[col].value_counts().reset_index()\n",
    "    counts.columns = [\"Sno\", \"value_counts\"]\n",
    "    print(f\"DataFrame for {col}\")\n",
    "counts"
   ]
  },
  {
   "cell_type": "code",
   "execution_count": 43,
   "id": "c9eb5ac2",
   "metadata": {},
   "outputs": [
    {
     "data": {
      "text/html": [
       "<div>\n",
       "<style scoped>\n",
       "    .dataframe tbody tr th:only-of-type {\n",
       "        vertical-align: middle;\n",
       "    }\n",
       "\n",
       "    .dataframe tbody tr th {\n",
       "        vertical-align: top;\n",
       "    }\n",
       "\n",
       "    .dataframe thead th {\n",
       "        text-align: right;\n",
       "    }\n",
       "</style>\n",
       "<table border=\"1\" class=\"dataframe\">\n",
       "  <thead>\n",
       "    <tr style=\"text-align: right;\">\n",
       "      <th></th>\n",
       "      <th>Product_No</th>\n",
       "      <th>Product_Name</th>\n",
       "      <th>Discount</th>\n",
       "      <th>Price</th>\n",
       "      <th>Product_No_Str</th>\n",
       "    </tr>\n",
       "  </thead>\n",
       "  <tbody>\n",
       "    <tr>\n",
       "      <th>0</th>\n",
       "      <td>0</td>\n",
       "      <td>QUA  MINERAL WATER(1000ML)</td>\n",
       "      <td>0.0</td>\n",
       "      <td>61.88</td>\n",
       "      <td>0</td>\n",
       "    </tr>\n",
       "    <tr>\n",
       "      <th>1</th>\n",
       "      <td>1</td>\n",
       "      <td>MONSOON MALABAR (AULAIT)</td>\n",
       "      <td>0.0</td>\n",
       "      <td>123.75</td>\n",
       "      <td>1</td>\n",
       "    </tr>\n",
       "    <tr>\n",
       "      <th>2</th>\n",
       "      <td>2</td>\n",
       "      <td>MASALA CHAI CUTTING</td>\n",
       "      <td>0.0</td>\n",
       "      <td>49.50</td>\n",
       "      <td>2</td>\n",
       "    </tr>\n",
       "    <tr>\n",
       "      <th>3</th>\n",
       "      <td>3</td>\n",
       "      <td>MOROCCAN MINT TEA</td>\n",
       "      <td>0.0</td>\n",
       "      <td>55.69</td>\n",
       "      <td>3</td>\n",
       "    </tr>\n",
       "    <tr>\n",
       "      <th>4</th>\n",
       "      <td>4</td>\n",
       "      <td>CAPPUCCINO</td>\n",
       "      <td>0.0</td>\n",
       "      <td>74.25</td>\n",
       "      <td>4</td>\n",
       "    </tr>\n",
       "    <tr>\n",
       "      <th>5</th>\n",
       "      <td>5</td>\n",
       "      <td>SUMATRA MANDHELING (REG)</td>\n",
       "      <td>0.0</td>\n",
       "      <td>117.56</td>\n",
       "      <td>5</td>\n",
       "    </tr>\n",
       "    <tr>\n",
       "      <th>6</th>\n",
       "      <td>6</td>\n",
       "      <td>BRAZIL BOURBONSANTOS (AULAIT)</td>\n",
       "      <td>0.0</td>\n",
       "      <td>142.31</td>\n",
       "      <td>6</td>\n",
       "    </tr>\n",
       "    <tr>\n",
       "      <th>7</th>\n",
       "      <td>7</td>\n",
       "      <td>LEMON ICED TEA</td>\n",
       "      <td>0.0</td>\n",
       "      <td>105.19</td>\n",
       "      <td>7</td>\n",
       "    </tr>\n",
       "    <tr>\n",
       "      <th>8</th>\n",
       "      <td>8</td>\n",
       "      <td>COUNTRY LEMONADE</td>\n",
       "      <td>0.0</td>\n",
       "      <td>105.19</td>\n",
       "      <td>8</td>\n",
       "    </tr>\n",
       "    <tr>\n",
       "      <th>9</th>\n",
       "      <td>9</td>\n",
       "      <td>MIAMI MELONS</td>\n",
       "      <td>0.0</td>\n",
       "      <td>105.19</td>\n",
       "      <td>9</td>\n",
       "    </tr>\n",
       "  </tbody>\n",
       "</table>\n",
       "</div>"
      ],
      "text/plain": [
       "   Product_No                    Product_Name  Discount   Price Product_No_Str\n",
       "0           0  QUA  MINERAL WATER(1000ML)           0.0   61.88              0\n",
       "1           1  MONSOON MALABAR (AULAIT)             0.0  123.75              1\n",
       "2           2  MASALA CHAI CUTTING                  0.0   49.50              2\n",
       "3           3  MOROCCAN MINT TEA                    0.0   55.69              3\n",
       "4           4  CAPPUCCINO                           0.0   74.25              4\n",
       "5           5  SUMATRA MANDHELING (REG)             0.0  117.56              5\n",
       "6           6  BRAZIL BOURBONSANTOS (AULAIT)        0.0  142.31              6\n",
       "7           7  LEMON ICED TEA                       0.0  105.19              7\n",
       "8           8  COUNTRY LEMONADE                     0.0  105.19              8\n",
       "9           9  MIAMI MELONS                         0.0  105.19              9"
      ]
     },
     "execution_count": 43,
     "metadata": {},
     "output_type": "execute_result"
    }
   ],
   "source": [
    "knime_df['Item_ID'] = knime_df['Billing_Sets'].apply(lambda x: [int(item_id) for item_id in x.split()])\n",
    "unique_item_ids = list(set([item_id for sublist in knime_df['Item_ID'] for item_id in sublist]))\n",
    "item_mapping = df[df['Item_ID'].isin(unique_item_ids)].groupby('Item_ID').agg({\n",
    "    'Item_Desc': 'first',\n",
    "    'Discount': 'first',\n",
    "    'Total': 'first'\n",
    "}).reset_index()\n",
    "product_df = pd.DataFrame({\n",
    "    'Product_No': item_mapping['Item_ID'],\n",
    "    'Product_Name': item_mapping['Item_Desc'],\n",
    "    'Discount': item_mapping['Discount'],\n",
    "    'Price': item_mapping['Total']\n",
    "})\n",
    "product_df['Product_No_Str'] = product_df['Product_No'].astype(str)\n",
    "product_df.head(10)"
   ]
  },
  {
   "cell_type": "code",
   "execution_count": 44,
   "id": "aada7129",
   "metadata": {},
   "outputs": [
    {
     "name": "stdout",
     "output_type": "stream",
     "text": [
      "<class 'pandas.core.frame.DataFrame'>\n",
      "RangeIndex: 580 entries, 0 to 579\n",
      "Data columns (total 5 columns):\n",
      " #   Column          Non-Null Count  Dtype  \n",
      "---  ------          --------------  -----  \n",
      " 0   Product_No      580 non-null    int64  \n",
      " 1   Product_Name    580 non-null    object \n",
      " 2   Discount        580 non-null    float64\n",
      " 3   Price           580 non-null    float64\n",
      " 4   Product_No_Str  580 non-null    object \n",
      "dtypes: float64(2), int64(1), object(2)\n",
      "memory usage: 22.8+ KB\n"
     ]
    }
   ],
   "source": [
    "product_df.info()"
   ]
  },
  {
   "cell_type": "code",
   "execution_count": 45,
   "id": "37568ca9",
   "metadata": {},
   "outputs": [],
   "source": [
    "product_df.to_csv('product_dataset.csv', index=False)"
   ]
  },
  {
   "cell_type": "code",
   "execution_count": null,
   "id": "2017cf4f",
   "metadata": {},
   "outputs": [],
   "source": []
  }
 ],
 "metadata": {
  "kernelspec": {
   "display_name": "Python 3 (ipykernel)",
   "language": "python",
   "name": "python3"
  },
  "language_info": {
   "codemirror_mode": {
    "name": "ipython",
    "version": 3
   },
   "file_extension": ".py",
   "mimetype": "text/x-python",
   "name": "python",
   "nbconvert_exporter": "python",
   "pygments_lexer": "ipython3",
   "version": "3.11.5"
  }
 },
 "nbformat": 4,
 "nbformat_minor": 5
}
